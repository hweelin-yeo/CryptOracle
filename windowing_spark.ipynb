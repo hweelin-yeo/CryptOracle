{
 "cells": [
  {
   "cell_type": "code",
   "execution_count": 160,
   "metadata": {},
   "outputs": [],
   "source": [
    "from pyspark import SparkConf, SparkContext\n",
    "from pyspark.sql import SparkSession\n",
    "from pyspark.sql.functions import udf, array, explode, sum, count\n",
    "from pyspark.sql.types import StructType, StructField, StringType, IntegerType\n",
    "from datetime import datetime\n",
    "\n",
    "SYMBOLS_LIST = ['BTC.X', 'BSV.X', 'BCH.X', 'LTC.X', 'ETH.X', 'DOGE.X']\n",
    "\n",
    "# NOTE: The environment needs to have scala installed for this to work\n",
    "spark = SparkSession \\\n",
    ".builder \\\n",
    ".appName(\"myApp\") \\\n",
    ".config(\"spark.mongodb.input.uri\", \"mongodb://127.0.0.1/cryptoracle\") \\\n",
    ".config(\"spark.mongodb.input.collection\", \"messages\") \\\n",
    ".config('spark.jars.packages', 'org.mongodb.spark:mongo-spark-connector_2.11:2.4.0') \\\n",
    ".getOrCreate()\n",
    "\n",
    "messages_df = spark.read.format(\"com.mongodb.spark.sql.DefaultSource\").load()"
   ]
  },
  {
   "cell_type": "code",
   "execution_count": 161,
   "metadata": {},
   "outputs": [
    {
     "data": {
      "text/plain": [
       "300"
      ]
     },
     "execution_count": 161,
     "metadata": {},
     "output_type": "execute_result"
    }
   ],
   "source": [
    "messages_df.count()"
   ]
  },
  {
   "cell_type": "code",
   "execution_count": 162,
   "metadata": {},
   "outputs": [
    {
     "name": "stdout",
     "output_type": "stream",
     "text": [
      "root\n",
      " |-- _id: struct (nullable = true)\n",
      " |    |-- oid: string (nullable = true)\n",
      " |-- body: string (nullable = true)\n",
      " |-- conversation: struct (nullable = true)\n",
      " |    |-- parent_message_id: integer (nullable = true)\n",
      " |    |-- in_reply_to_message_id: null (nullable = true)\n",
      " |    |-- parent: boolean (nullable = true)\n",
      " |    |-- replies: integer (nullable = true)\n",
      " |-- created_at: string (nullable = true)\n",
      " |-- entities: struct (nullable = true)\n",
      " |    |-- chart: struct (nullable = true)\n",
      " |    |    |-- thumb: string (nullable = true)\n",
      " |    |    |-- large: string (nullable = true)\n",
      " |    |    |-- original: string (nullable = true)\n",
      " |    |    |-- url: string (nullable = true)\n",
      " |    |-- sentiment: struct (nullable = true)\n",
      " |    |    |-- basic: string (nullable = true)\n",
      " |-- filters: struct (nullable = true)\n",
      " |    |-- day_counts: integer (nullable = true)\n",
      " |    |-- official_api: boolean (nullable = true)\n",
      " |-- id: integer (nullable = true)\n",
      " |-- likes: struct (nullable = true)\n",
      " |    |-- total: integer (nullable = true)\n",
      " |    |-- user_ids: array (nullable = true)\n",
      " |    |    |-- element: integer (containsNull = true)\n",
      " |-- links: array (nullable = true)\n",
      " |    |-- element: struct (containsNull = true)\n",
      " |    |    |-- title: string (nullable = true)\n",
      " |    |    |-- url: string (nullable = true)\n",
      " |    |    |-- shortened_url: string (nullable = true)\n",
      " |    |    |-- shortened_expanded_url: string (nullable = true)\n",
      " |    |    |-- description: string (nullable = true)\n",
      " |    |    |-- image: string (nullable = true)\n",
      " |    |    |-- created_at: string (nullable = true)\n",
      " |    |    |-- video_url: string (nullable = true)\n",
      " |    |    |-- source: struct (nullable = true)\n",
      " |    |    |    |-- name: string (nullable = true)\n",
      " |    |    |    |-- website: string (nullable = true)\n",
      " |-- mentioned_users: array (nullable = true)\n",
      " |    |-- element: string (containsNull = true)\n",
      " |-- reshares: struct (nullable = true)\n",
      " |    |-- reshared_count: integer (nullable = true)\n",
      " |    |-- user_ids: array (nullable = true)\n",
      " |    |    |-- element: integer (containsNull = true)\n",
      " |-- source: struct (nullable = true)\n",
      " |    |-- id: integer (nullable = true)\n",
      " |    |-- title: string (nullable = true)\n",
      " |    |-- url: string (nullable = true)\n",
      " |-- symbols: array (nullable = true)\n",
      " |    |-- element: struct (containsNull = true)\n",
      " |    |    |-- aliases: array (nullable = true)\n",
      " |    |    |    |-- element: string (containsNull = true)\n",
      " |    |    |-- id: integer (nullable = true)\n",
      " |    |    |-- is_following: boolean (nullable = true)\n",
      " |    |    |-- symbol: string (nullable = true)\n",
      " |    |    |-- title: string (nullable = true)\n",
      " |    |    |-- watchlist_count: integer (nullable = true)\n",
      " |-- user: struct (nullable = true)\n",
      " |    |-- avatar_url: string (nullable = true)\n",
      " |    |-- avatar_url_ssl: string (nullable = true)\n",
      " |    |-- classification: array (nullable = true)\n",
      " |    |    |-- element: string (containsNull = true)\n",
      " |    |-- followers: integer (nullable = true)\n",
      " |    |-- following: integer (nullable = true)\n",
      " |    |-- id: integer (nullable = true)\n",
      " |    |-- ideas: integer (nullable = true)\n",
      " |    |-- identity: string (nullable = true)\n",
      " |    |-- join_date: string (nullable = true)\n",
      " |    |-- like_count: integer (nullable = true)\n",
      " |    |-- name: string (nullable = true)\n",
      " |    |-- official: boolean (nullable = true)\n",
      " |    |-- plus_tier: string (nullable = true)\n",
      " |    |-- premium_room: string (nullable = true)\n",
      " |    |-- trade_app: boolean (nullable = true)\n",
      " |    |-- username: string (nullable = true)\n",
      " |    |-- watchlist_stocks_count: integer (nullable = true)\n",
      "\n"
     ]
    }
   ],
   "source": [
    "messages_df.printSchema()"
   ]
  },
  {
   "cell_type": "code",
   "execution_count": 163,
   "metadata": {},
   "outputs": [
    {
     "data": {
      "text/plain": [
       "Row(_id=Row(oid='5e85e12a2dc1515fd0260a61'), body='$BTC.X BTC will hit 100k one day, no doubt about it.  The real question is how much purchasing power will the dollar lose by then', conversation=None, created_at='2020-03-25T00:31:19Z', entities=Row(chart=None, sentiment=Row(basic='Bullish')), filters=Row(day_counts=1, official_api=True), id=202506508, likes=None, links=None, mentioned_users=[], reshares=None, source=Row(id=2095, title='StockTwits For Android ', url='http://www.stocktwits.com/mobile'), symbols=[Row(aliases=['BTCUSD'], id=11418, is_following=False, symbol='BTC.X', title='Bitcoin BTC/USD', watchlist_count=157424)], user=Row(avatar_url='http://avatars.stocktwits.com/images/default_avatar_thumb.jpg', avatar_url_ssl='https://s3.amazonaws.com/st-avatars/images/default_avatar_thumb.jpg', classification=[], followers=1, following=0, id=3162884, ideas=86, identity='User', join_date='2020-03-08', like_count=42, name='gufyvyvyvyvyvtv', official=False, plus_tier='', premium_room='', trade_app=False, username='BTC4me', watchlist_stocks_count=3))"
      ]
     },
     "execution_count": 163,
     "metadata": {},
     "output_type": "execute_result"
    }
   ],
   "source": [
    "messages_df.first()"
   ]
  },
  {
   "cell_type": "markdown",
   "metadata": {},
   "source": [
    "### Create new dataframe with only required columns and filtered rows"
   ]
  },
  {
   "cell_type": "code",
   "execution_count": 164,
   "metadata": {},
   "outputs": [],
   "source": [
    "messages_df = messages_df.select(messages_df['_id']['oid'].alias('_id'),\n",
    "                   messages_df['body'],\n",
    "                   messages_df['created_at'],\n",
    "                   messages_df['entities']['sentiment']['basic'].alias('sentiment'),\n",
    "                   messages_df['symbols']['symbol'].alias('symbols'),\n",
    "                   messages_df['likes']['total'].alias('likes'),\n",
    "                   messages_df['reshares']['reshared_count'].alias('reshares'))\n",
    "\n",
    "def sum_interactions(likes, reshares):\n",
    "    _sum = 1\n",
    "    if likes:\n",
    "        _sum += likes\n",
    "    if reshares:\n",
    "        _sum += reshares\n",
    "    return _sum\n",
    "\n",
    "def convert_sentiment(sentiment):\n",
    "    if sentiment == \"Bullish\":\n",
    "        return 2\n",
    "    if sentiment == \"Bearish\":\n",
    "        return 1\n",
    "    return 0\n",
    "\n",
    "def convert_date(dt):\n",
    "    return datetime.strptime(dt, '%Y-%m-%dT%H:%M:%SZ').strftime('%Y-%m-%d-%H')\n",
    "\n",
    "interactionUdf = udf(sum_interactions, IntegerType())\n",
    "sentimentUdf = udf(convert_sentiment, IntegerType())\n",
    "dateUdf = udf(convert_date, StringType())\n",
    "\n",
    "messages_df = messages_df \\\n",
    "                .withColumn('interaction_count', interactionUdf('likes', 'reshares')) \\\n",
    "                .withColumn('sentiment', sentimentUdf('sentiment')) \\\n",
    "                .withColumn('created_at', dateUdf('created_at'))"
   ]
  },
  {
   "cell_type": "code",
   "execution_count": 165,
   "metadata": {},
   "outputs": [
    {
     "data": {
      "text/plain": [
       "Row(_id='5e85e12a2dc1515fd0260a61', body='$BTC.X BTC will hit 100k one day, no doubt about it.  The real question is how much purchasing power will the dollar lose by then', created_at='2020-03-25-00', sentiment=2, symbols=['BTC.X'], likes=None, reshares=None, interaction_count=1)"
      ]
     },
     "execution_count": 165,
     "metadata": {},
     "output_type": "execute_result"
    }
   ],
   "source": [
    "messages_df.first()"
   ]
  },
  {
   "cell_type": "markdown",
   "metadata": {},
   "source": [
    "#### Distribution of sentiments"
   ]
  },
  {
   "cell_type": "code",
   "execution_count": 166,
   "metadata": {},
   "outputs": [
    {
     "data": {
      "text/plain": [
       "[Row(sentiment=1, count=16),\n",
       " Row(sentiment=2, count=120),\n",
       " Row(sentiment=0, count=164)]"
      ]
     },
     "execution_count": 166,
     "metadata": {},
     "output_type": "execute_result"
    }
   ],
   "source": [
    "messages_df.groupBy('sentiment').count().collect()"
   ]
  },
  {
   "cell_type": "markdown",
   "metadata": {},
   "source": [
    "### Windowing\n"
   ]
  },
  {
   "cell_type": "markdown",
   "metadata": {},
   "source": [
    "#### Unwrap array of symbols to new rows"
   ]
  },
  {
   "cell_type": "code",
   "execution_count": 167,
   "metadata": {},
   "outputs": [
    {
     "data": {
      "text/plain": [
       "[Row(symbol='BCH.X', count=46),\n",
       " Row(symbol='BTC.X', count=122),\n",
       " Row(symbol='ETH.X', count=68),\n",
       " Row(symbol='DOGE.X', count=30),\n",
       " Row(symbol='BSV.X', count=38),\n",
       " Row(symbol='LTC.X', count=45)]"
      ]
     },
     "execution_count": 167,
     "metadata": {},
     "output_type": "execute_result"
    }
   ],
   "source": [
    "# Since tweets can be attributed to more than one symbol, we unwrap the list into more rows\n",
    "# this is okay as our final calculation will be grouped by symbol among other things\n",
    "\n",
    "def weight_sentiment(sentiment, count):\n",
    "    if sentiment == 0:\n",
    "        return 0\n",
    "    return sentiment * count\n",
    "\n",
    "weightedSentimentUdf = udf(weight_sentiment, IntegerType())\n",
    "\n",
    "messages_df = messages_df \\\n",
    "                .withColumn('weighted_sentiment', weightedSentimentUdf('sentiment', 'interaction_count')) \\\n",
    "                .withColumn('symbol', explode(messages_df['symbols']))\n",
    "# filter to only those symbols that we care about\n",
    "messages_df = messages_df.where(messages_df['symbol'].isin(SYMBOLS_LIST))\n",
    "\n",
    "messages_df.groupby('symbol').count().collect()"
   ]
  },
  {
   "cell_type": "code",
   "execution_count": 168,
   "metadata": {},
   "outputs": [
    {
     "data": {
      "text/plain": [
       "Row(_id='5e85e12a2dc1515fd0260a61', body='$BTC.X BTC will hit 100k one day, no doubt about it.  The real question is how much purchasing power will the dollar lose by then', created_at='2020-03-25-00', sentiment=2, symbols=['BTC.X'], likes=None, reshares=None, interaction_count=1, weighted_sentiment=2, symbol='BTC.X')"
      ]
     },
     "execution_count": 168,
     "metadata": {},
     "output_type": "execute_result"
    }
   ],
   "source": [
    "messages_df.first()"
   ]
  },
  {
   "cell_type": "code",
   "execution_count": 169,
   "metadata": {},
   "outputs": [],
   "source": [
    "grouped_df = messages_df.groupby(['created_at', 'symbol']).agg(\n",
    "    sum('interaction_count').alias('sum_interaction_count'),\n",
    "    sum('weighted_sentiment').alias('sum_weighted_sentiment'),\n",
    "    count('_id').alias('volume_tweets'))\n",
    "\n",
    "grouped_df = grouped_df.withColumn('overall_sentiment', grouped_df['sum_weighted_sentiment'] / grouped_df['sum_interaction_count'])\n"
   ]
  },
  {
   "cell_type": "code",
   "execution_count": 176,
   "metadata": {},
   "outputs": [
    {
     "data": {
      "text/plain": [
       "Row(created_at='2020-03-25-00', symbol='ETH.X', sum_interaction_count=4, sum_weighted_sentiment=8, volume_tweets=2, overall_sentiment=2.0)"
      ]
     },
     "execution_count": 176,
     "metadata": {},
     "output_type": "execute_result"
    }
   ],
   "source": [
    "grouped_df.first()"
   ]
  },
  {
   "cell_type": "code",
   "execution_count": 175,
   "metadata": {},
   "outputs": [
    {
     "data": {
      "text/plain": [
       "170"
      ]
     },
     "execution_count": 175,
     "metadata": {},
     "output_type": "execute_result"
    }
   ],
   "source": [
    "grouped_df.count()"
   ]
  },
  {
   "cell_type": "code",
   "execution_count": 91,
   "metadata": {},
   "outputs": [
    {
     "data": {
      "text/plain": [
       "349"
      ]
     },
     "execution_count": 91,
     "metadata": {},
     "output_type": "execute_result"
    }
   ],
   "source": [
    "messages_df.count()"
   ]
  },
  {
   "cell_type": "code",
   "execution_count": 182,
   "metadata": {},
   "outputs": [],
   "source": [
    "joined_df = messages_df.join(grouped_df, ['created_at', 'symbol'])"
   ]
  },
  {
   "cell_type": "code",
   "execution_count": null,
   "metadata": {},
   "outputs": [],
   "source": [
    "spark.stop()\n"
   ]
  }
 ],
 "metadata": {
  "kernelspec": {
   "display_name": "Python 3",
   "language": "python",
   "name": "python3"
  },
  "language_info": {
   "codemirror_mode": {
    "name": "ipython",
    "version": 3
   },
   "file_extension": ".py",
   "mimetype": "text/x-python",
   "name": "python",
   "nbconvert_exporter": "python",
   "pygments_lexer": "ipython3",
   "version": "3.7.4"
  }
 },
 "nbformat": 4,
 "nbformat_minor": 4
}
