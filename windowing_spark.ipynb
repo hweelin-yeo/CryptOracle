{
 "cells": [
  {
   "cell_type": "code",
   "execution_count": 108,
   "metadata": {},
   "outputs": [],
   "source": [
    "from pyspark import SparkConf, SparkContext\n",
    "from pyspark.sql import SparkSession\n",
    "from pyspark.sql.functions import udf, array, explode, sum, count, lit\n",
    "from pyspark.sql.types import StructType, StructField, StringType, IntegerType, DoubleType\n",
    "from datetime import datetime\n",
    "\n",
    "SYMBOLS_LIST = ['BTC.X', 'BSV.X', 'BCH.X', 'LTC.X', 'ETH.X', 'DOGE.X']\n",
    "\n",
    "# NOTE: The environment needs to have scala installed for this to work\n",
    "spark = SparkSession \\\n",
    ".builder \\\n",
    ".appName(\"myApp\") \\\n",
    ".config(\"spark.mongodb.input.uri\", \"mongodb://127.0.0.1/cryptoracle\") \\\n",
    ".config(\"spark.mongodb.input.collection\", \"messages\") \\\n",
    ".config('spark.jars.packages', 'org.mongodb.spark:mongo-spark-connector_2.11:2.4.0') \\\n",
    ".getOrCreate()\n",
    "\n",
    "messages_df = spark.read.format(\"com.mongodb.spark.sql.DefaultSource\").load()"
   ]
  },
  {
   "cell_type": "code",
   "execution_count": 109,
   "metadata": {},
   "outputs": [
    {
     "data": {
      "text/plain": [
       "300"
      ]
     },
     "execution_count": 109,
     "metadata": {},
     "output_type": "execute_result"
    }
   ],
   "source": [
    "messages_df.count()"
   ]
  },
  {
   "cell_type": "code",
   "execution_count": 110,
   "metadata": {},
   "outputs": [
    {
     "data": {
      "text/plain": [
       "Row(_id=Row(oid='5e85e12a2dc1515fd0260a61'), body='$BTC.X BTC will hit 100k one day, no doubt about it.  The real question is how much purchasing power will the dollar lose by then', conversation=None, created_at='2020-03-25T00:31:19Z', entities=Row(chart=None, sentiment=Row(basic='Bullish')), filters=Row(day_counts=1, official_api=True), id=202506508, likes=None, links=None, mentioned_users=[], reshares=None, source=Row(id=2095, title='StockTwits For Android ', url='http://www.stocktwits.com/mobile'), symbols=[Row(aliases=['BTCUSD'], id=11418, is_following=False, symbol='BTC.X', title='Bitcoin BTC/USD', watchlist_count=157424)], user=Row(avatar_url='http://avatars.stocktwits.com/images/default_avatar_thumb.jpg', avatar_url_ssl='https://s3.amazonaws.com/st-avatars/images/default_avatar_thumb.jpg', classification=[], followers=1, following=0, id=3162884, ideas=86, identity='User', join_date='2020-03-08', like_count=42, name='gufyvyvyvyvyvtv', official=False, plus_tier='', premium_room='', trade_app=False, username='BTC4me', watchlist_stocks_count=3))"
      ]
     },
     "execution_count": 110,
     "metadata": {},
     "output_type": "execute_result"
    }
   ],
   "source": [
    "messages_df.first()"
   ]
  },
  {
   "cell_type": "markdown",
   "metadata": {},
   "source": [
    "### Create new dataframe with only required columns and filtered rows"
   ]
  },
  {
   "cell_type": "code",
   "execution_count": 111,
   "metadata": {},
   "outputs": [],
   "source": [
    "messages_df = messages_df.select(messages_df['_id']['oid'].alias('_id'),\n",
    "                   messages_df['body'],\n",
    "                   messages_df['created_at'],\n",
    "                   messages_df['entities']['sentiment']['basic'].alias('sentiment'),\n",
    "                   messages_df['symbols']['symbol'].alias('symbols'),\n",
    "                   messages_df['likes']['total'].alias('likes'),\n",
    "                   messages_df['reshares']['reshared_count'].alias('reshares'))\n",
    "\n",
    "def sum_interactions(likes, reshares):\n",
    "    _sum = 1\n",
    "    if likes:\n",
    "        _sum += likes\n",
    "    if reshares:\n",
    "        _sum += reshares\n",
    "    return _sum\n",
    "\n",
    "def convert_sentiment(sentiment):\n",
    "    if sentiment == \"Bullish\":\n",
    "        return 2\n",
    "    if sentiment == \"Bearish\":\n",
    "        return 1\n",
    "    return 0\n",
    "\n",
    "def convert_date(dt):\n",
    "    return datetime.strptime(dt, '%Y-%m-%dT%H:%M:%SZ').strftime('%Y-%m-%d-%H')\n",
    "\n",
    "interactionUdf = udf(sum_interactions, IntegerType())\n",
    "sentimentUdf = udf(convert_sentiment, IntegerType())\n",
    "dateUdf = udf(convert_date, StringType())\n",
    "\n",
    "messages_df = messages_df \\\n",
    "                .withColumn('interaction_count', interactionUdf('likes', 'reshares')) \\\n",
    "                .withColumn('sentiment', sentimentUdf('sentiment')) \\\n",
    "                .withColumn('created_at', dateUdf('created_at'))"
   ]
  },
  {
   "cell_type": "code",
   "execution_count": 112,
   "metadata": {},
   "outputs": [
    {
     "data": {
      "text/plain": [
       "Row(_id='5e85e12a2dc1515fd0260a61', body='$BTC.X BTC will hit 100k one day, no doubt about it.  The real question is how much purchasing power will the dollar lose by then', created_at='2020-03-25-00', sentiment=2, symbols=['BTC.X'], likes=None, reshares=None, interaction_count=1)"
      ]
     },
     "execution_count": 112,
     "metadata": {},
     "output_type": "execute_result"
    }
   ],
   "source": [
    "messages_df.first()"
   ]
  },
  {
   "cell_type": "markdown",
   "metadata": {},
   "source": [
    "#### Distribution of sentiments"
   ]
  },
  {
   "cell_type": "code",
   "execution_count": 113,
   "metadata": {},
   "outputs": [
    {
     "data": {
      "text/plain": [
       "[Row(sentiment=1, count=16),\n",
       " Row(sentiment=2, count=120),\n",
       " Row(sentiment=0, count=164)]"
      ]
     },
     "execution_count": 113,
     "metadata": {},
     "output_type": "execute_result"
    }
   ],
   "source": [
    "messages_df.groupBy('sentiment').count().collect()"
   ]
  },
  {
   "cell_type": "markdown",
   "metadata": {},
   "source": [
    "### Windowing\n"
   ]
  },
  {
   "cell_type": "markdown",
   "metadata": {},
   "source": [
    "#### Unwrap array of symbols to new rows"
   ]
  },
  {
   "cell_type": "code",
   "execution_count": 114,
   "metadata": {},
   "outputs": [],
   "source": [
    "# Since tweets can be attributed to more than one symbol, we unwrap the list into more rows\n",
    "# this is okay as our final calculation will be grouped by symbol among other things\n",
    "\n",
    "def weight_sentiment(sentiment, count):\n",
    "    if sentiment == 0:\n",
    "        return 0\n",
    "    return sentiment * count\n",
    "\n",
    "def handle_neutral_sentiment(sentiment, count):\n",
    "    if sentiment == 0:\n",
    "        return 0\n",
    "    return count\n",
    "\n",
    "weightedSentimentUdf = udf(weight_sentiment, IntegerType())\n",
    "neutralSentimentUdf = udf(handle_neutral_sentiment, IntegerType())\n",
    "\n",
    "messages_df = messages_df \\\n",
    "                .withColumn('weighted_sentiment', weightedSentimentUdf('sentiment', 'interaction_count')) \\\n",
    "                .withColumn('symbol', explode(messages_df['symbols']))\n",
    "\n",
    "# do not consider interaction count for neutral sentiment\n",
    "messages_df = messages_df.withColumn('interaction_count', neutralSentimentUdf('sentiment', 'interaction_count'))\n",
    "# filter to only those symbols that we care about\n",
    "messages_df = messages_df.where(messages_df['symbol'].isin(SYMBOLS_LIST))"
   ]
  },
  {
   "cell_type": "code",
   "execution_count": 115,
   "metadata": {},
   "outputs": [
    {
     "data": {
      "text/plain": [
       "[Row(symbol='BCH.X', count=46),\n",
       " Row(symbol='BTC.X', count=122),\n",
       " Row(symbol='ETH.X', count=68),\n",
       " Row(symbol='DOGE.X', count=30),\n",
       " Row(symbol='BSV.X', count=38),\n",
       " Row(symbol='LTC.X', count=45)]"
      ]
     },
     "execution_count": 115,
     "metadata": {},
     "output_type": "execute_result"
    }
   ],
   "source": [
    "messages_df.groupby('symbol').count().collect()"
   ]
  },
  {
   "cell_type": "code",
   "execution_count": 116,
   "metadata": {},
   "outputs": [],
   "source": [
    "grouped_df = messages_df.groupby(['created_at', 'symbol']).agg(\n",
    "    sum('interaction_count').alias('sum_interaction_count'),\n",
    "    sum('weighted_sentiment').alias('sum_weighted_sentiment'),\n",
    "    count('_id').alias('volume_tweets'))\n",
    "\n",
    "grouped_df = grouped_df.withColumn('overall_sentiment', grouped_df['sum_weighted_sentiment'] / grouped_df['sum_interaction_count'])"
   ]
  },
  {
   "cell_type": "code",
   "execution_count": 117,
   "metadata": {},
   "outputs": [],
   "source": [
    "gdf = grouped_df.toPandas()"
   ]
  },
  {
   "cell_type": "code",
   "execution_count": 118,
   "metadata": {},
   "outputs": [
    {
     "data": {
      "text/html": [
       "<div>\n",
       "<style scoped>\n",
       "    .dataframe tbody tr th:only-of-type {\n",
       "        vertical-align: middle;\n",
       "    }\n",
       "\n",
       "    .dataframe tbody tr th {\n",
       "        vertical-align: top;\n",
       "    }\n",
       "\n",
       "    .dataframe thead th {\n",
       "        text-align: right;\n",
       "    }\n",
       "</style>\n",
       "<table border=\"1\" class=\"dataframe\">\n",
       "  <thead>\n",
       "    <tr style=\"text-align: right;\">\n",
       "      <th></th>\n",
       "      <th>created_at</th>\n",
       "      <th>symbol</th>\n",
       "      <th>sum_interaction_count</th>\n",
       "      <th>sum_weighted_sentiment</th>\n",
       "      <th>volume_tweets</th>\n",
       "      <th>overall_sentiment</th>\n",
       "    </tr>\n",
       "  </thead>\n",
       "  <tbody>\n",
       "    <tr>\n",
       "      <th>33</th>\n",
       "      <td>2020-03-24-23</td>\n",
       "      <td>BSV.X</td>\n",
       "      <td>2</td>\n",
       "      <td>4</td>\n",
       "      <td>1</td>\n",
       "      <td>2.000000</td>\n",
       "    </tr>\n",
       "    <tr>\n",
       "      <th>84</th>\n",
       "      <td>2020-03-24-23</td>\n",
       "      <td>BCH.X</td>\n",
       "      <td>25</td>\n",
       "      <td>26</td>\n",
       "      <td>5</td>\n",
       "      <td>1.040000</td>\n",
       "    </tr>\n",
       "    <tr>\n",
       "      <th>138</th>\n",
       "      <td>2020-03-24-23</td>\n",
       "      <td>ETH.X</td>\n",
       "      <td>31</td>\n",
       "      <td>38</td>\n",
       "      <td>10</td>\n",
       "      <td>1.225806</td>\n",
       "    </tr>\n",
       "    <tr>\n",
       "      <th>143</th>\n",
       "      <td>2020-03-24-23</td>\n",
       "      <td>LTC.X</td>\n",
       "      <td>24</td>\n",
       "      <td>24</td>\n",
       "      <td>5</td>\n",
       "      <td>1.000000</td>\n",
       "    </tr>\n",
       "    <tr>\n",
       "      <th>163</th>\n",
       "      <td>2020-03-24-23</td>\n",
       "      <td>BTC.X</td>\n",
       "      <td>32</td>\n",
       "      <td>40</td>\n",
       "      <td>17</td>\n",
       "      <td>1.250000</td>\n",
       "    </tr>\n",
       "  </tbody>\n",
       "</table>\n",
       "</div>"
      ],
      "text/plain": [
       "        created_at symbol  sum_interaction_count  sum_weighted_sentiment  \\\n",
       "33   2020-03-24-23  BSV.X                      2                       4   \n",
       "84   2020-03-24-23  BCH.X                     25                      26   \n",
       "138  2020-03-24-23  ETH.X                     31                      38   \n",
       "143  2020-03-24-23  LTC.X                     24                      24   \n",
       "163  2020-03-24-23  BTC.X                     32                      40   \n",
       "\n",
       "     volume_tweets  overall_sentiment  \n",
       "33               1           2.000000  \n",
       "84               5           1.040000  \n",
       "138             10           1.225806  \n",
       "143              5           1.000000  \n",
       "163             17           1.250000  "
      ]
     },
     "execution_count": 118,
     "metadata": {},
     "output_type": "execute_result"
    }
   ],
   "source": [
    "gdf[gdf['created_at'] == '2020-03-24-23']"
   ]
  },
  {
   "cell_type": "code",
   "execution_count": 119,
   "metadata": {},
   "outputs": [
    {
     "data": {
      "text/plain": [
       "[Row(symbol='BCH.X', count=28),\n",
       " Row(symbol='BTC.X', count=48),\n",
       " Row(symbol='ETH.X', count=29),\n",
       " Row(symbol='DOGE.X', count=22),\n",
       " Row(symbol='BSV.X', count=21),\n",
       " Row(symbol='LTC.X', count=22)]"
      ]
     },
     "execution_count": 119,
     "metadata": {},
     "output_type": "execute_result"
    }
   ],
   "source": [
    "grouped_df.groupby('symbol').count().collect()"
   ]
  },
  {
   "cell_type": "markdown",
   "metadata": {},
   "source": [
    "## Historical Price Data"
   ]
  },
  {
   "cell_type": "code",
   "execution_count": 120,
   "metadata": {},
   "outputs": [],
   "source": [
    "import pandas as pd \n",
    "from datetime import datetime\n",
    "read_func = lambda x: spark.read.format('csv').load(x, header=True, inferSchema=True)\n",
    "\n",
    "def format_date(date, sym):\n",
    "    if sym in ['BCH.X', 'DOGE.X']:\n",
    "        return datetime.strptime(date, '%Y-%m-%d %I-%p').strftime(\"%Y-%m-%d-%H\")\n",
    "    return datetime.strptime(date, '%m/%d/%y %H:%M').strftime(\"%Y-%m-%d-%H\")\n",
    "    \n",
    "\n",
    "formatDateUdf = udf(format_date, StringType())\n",
    "\n",
    "BTC_prices = read_func(\"data/gemini_BTCUSD_1hr.csv\") \n",
    "ETH_prices = read_func(\"data/gemini_ETHUSD_1hr.csv\") \n",
    "LTC_prices = read_func(\"data/gemini_LTCUSD_1hr.csv\") \n",
    "BCH_prices = read_func(\"data/Bitbay_BCHUSD_1h.csv\") \n",
    "DOGE_prices = read_func(\"data/Yobit_DOGERUR_1h.csv\") \n",
    "\n",
    "price_df_lists = [\n",
    "    ('BTC.X', BTC_prices),\n",
    "    ('ETH.X', ETH_prices),\n",
    "    ('LTC.X', LTC_prices),\n",
    "    ('BCH.X', BCH_prices),\n",
    "    ('DOGE.X', DOGE_prices)\n",
    "]"
   ]
  },
  {
   "cell_type": "markdown",
   "metadata": {},
   "source": [
    "#### 1. Datetime and Symbols"
   ]
  },
  {
   "cell_type": "code",
   "execution_count": 121,
   "metadata": {},
   "outputs": [],
   "source": [
    "new_dfs = []\n",
    "for sym, price_df in price_df_lists:\n",
    "    new_dfs.append(price_df \\\n",
    "                .withColumnRenamed('Symbol', 'symbol') \\\n",
    "                .withColumn('symbol', lit(sym)) \\\n",
    "                .withColumn('Date', formatDateUdf('Date', 'symbol')) \\\n",
    "                .drop('Unix Timestamp'))\n",
    "price_df_lists = new_dfs"
   ]
  },
  {
   "cell_type": "markdown",
   "metadata": {},
   "source": [
    "#### 2. Doge (RUR to USD)"
   ]
  },
  {
   "cell_type": "code",
   "execution_count": 122,
   "metadata": {},
   "outputs": [],
   "source": [
    "RUR_USD = 0.013\n",
    "\n",
    "def convert_doge(price):\n",
    "    return price * RUR_USD\n",
    "\n",
    "convertPriceUdf = udf(convert_doge, DoubleType())\n",
    "\n",
    "for col in ['Open', 'High', 'Low', 'Close']:\n",
    "    price_df_lists[-1] = price_df_lists[-1].withColumn(col, convertPriceUdf(col))\n",
    "    \n",
    "#DOGE\n",
    "price_df_lists[-1] = price_df_lists[-1].drop('Volume ERUR').withColumnRenamed('Volume DOG', 'Volume')\n",
    "#BCH\n",
    "price_df_lists[-2] = price_df_lists[-2].drop('Volume USD').withColumnRenamed('Volume BCH', 'Volume')"
   ]
  },
  {
   "cell_type": "code",
   "execution_count": 123,
   "metadata": {},
   "outputs": [
    {
     "name": "stdout",
     "output_type": "stream",
     "text": [
      "Row(Date='2020-04-18-00', symbol='BTC.X', Open=7036.26, High=7064.99, Low=7028.23, Close=7064.99, Volume=4.22790759)\n",
      "Row(Date='2020-04-18-00', symbol='ETH.X', Open=170.8, High=170.82, Low=170.8, Close=170.82, Volume=0.003956)\n",
      "Row(Date='2020-04-18-00', symbol='LTC.X', Open=42.23, High=42.36, Low=42.16, Close=42.36, Volume=119.65145)\n",
      "Row(Date='2020-04-01-11', symbol='BCH.X', Open=210.85, High=210.85, Low=210.85, Close=210.85, Volume=0.0)\n",
      "Row(Date='2018-08-22-23', symbol='DOGE.X', Open=0.0021333, High=0.0021333, Low=0.0021294, Close=0.0021294, Volume=0.0)\n"
     ]
    }
   ],
   "source": [
    "for df in price_df_lists:\n",
    "    print(df.first())"
   ]
  },
  {
   "cell_type": "code",
   "execution_count": 124,
   "metadata": {},
   "outputs": [
    {
     "data": {
      "text/plain": [
       "115820"
      ]
     },
     "execution_count": 124,
     "metadata": {},
     "output_type": "execute_result"
    }
   ],
   "source": [
    "from functools import reduce\n",
    "from pyspark.sql import DataFrame\n",
    "\n",
    "def unionAll(*dfs):\n",
    "    return reduce(DataFrame.unionAll, dfs)\n",
    "\n",
    "unionAll(*price_df_lists).count()"
   ]
  },
  {
   "cell_type": "code",
   "execution_count": 104,
   "metadata": {},
   "outputs": [],
   "source": [
    "spark.stop()\n"
   ]
  }
 ],
 "metadata": {
  "kernelspec": {
   "display_name": "Python 3",
   "language": "python",
   "name": "python3"
  },
  "language_info": {
   "codemirror_mode": {
    "name": "ipython",
    "version": 3
   },
   "file_extension": ".py",
   "mimetype": "text/x-python",
   "name": "python",
   "nbconvert_exporter": "python",
   "pygments_lexer": "ipython3",
   "version": "3.7.4"
  }
 },
 "nbformat": 4,
 "nbformat_minor": 4
}
